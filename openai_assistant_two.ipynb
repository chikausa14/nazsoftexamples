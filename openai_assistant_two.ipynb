{
 "cells": [
  {
   "cell_type": "code",
   "execution_count": 18,
   "metadata": {},
   "outputs": [],
   "source": [
    "#Following tutorial https://www.youtube.com/watch?v=vQhEiR2bNY8\n",
    "\n",
    "#Set up the client\n",
    "\n",
    "from openai import OpenAI\n",
    "import os\n",
    "\n",
    "client = OpenAI(\n",
    "    api_key=os.getenv(\"OPEN_AI_KEY\")\n",
    ")"
   ]
  },
  {
   "cell_type": "code",
   "execution_count": 19,
   "metadata": {},
   "outputs": [],
   "source": [
    "# Declare Assistant ID\n",
    "\n",
    "assistant_id = \"asst_wmUPInPNiI5UnWNb001ehA5r\""
   ]
  },
  {
   "cell_type": "code",
   "execution_count": 20,
   "metadata": {},
   "outputs": [
    {
     "name": "stdout",
     "output_type": "stream",
     "text": [
      "5\n",
      "3\n"
     ]
    }
   ],
   "source": [
    "# Declare Functions\n",
    "\n",
    "def add(num1, num2):\n",
    "    return num1+num2\n",
    "\n",
    "def subtract(num1, num2):\n",
    "    return num1-num2\n"
   ]
  },
  {
   "cell_type": "code",
   "execution_count": 21,
   "metadata": {},
   "outputs": [
    {
     "data": {
      "text/plain": [
       "Assistant(id='asst_wmUPInPNiI5UnWNb001ehA5r', created_at=1707805935, description=None, file_ids=[], instructions='You are a helpful math tutor that helps students with simple mathematics, such as adding and subtracting.', metadata={}, model='gpt-3.5-turbo', name='Math tutor', object='assistant', tools=[ToolFunction(function=FunctionDefinition(name='add', description='Adds two numbers together', parameters={'type': 'object', 'properties': {'num_1': {'type': 'integer', 'description': 'The first number to add.'}, 'num_2': {'type': 'integer', 'description': 'The second number to add.'}}, 'required': ['num_1', 'num_2']}), type='function'), ToolFunction(function=FunctionDefinition(name='subtract', description='Subtracts two numbers together', parameters={'type': 'object', 'properties': {'num_1': {'type': 'integer', 'description': 'The number to subtract from.'}, 'num_2': {'type': 'integer', 'description': 'The number to subtract by.'}}, 'required': ['num_1', 'num_2']}), type='function')])"
      ]
     },
     "execution_count": 21,
     "metadata": {},
     "output_type": "execute_result"
    }
   ],
   "source": [
    "assistant = client.beta.assistants.retrieve(\n",
    "    assistant_id=assistant_id\n",
    ")\n",
    "\n",
    "assistant"
   ]
  },
  {
   "cell_type": "code",
   "execution_count": 52,
   "metadata": {},
   "outputs": [
    {
     "data": {
      "text/plain": [
       "Thread(id='thread_lh183M12yrlseMrGcCquv7vF', created_at=1707809894, metadata={}, object='thread')"
      ]
     },
     "execution_count": 52,
     "metadata": {},
     "output_type": "execute_result"
    }
   ],
   "source": [
    "# Create a thread\n",
    "\n",
    "thread = client.beta.threads.create()\n",
    "thread"
   ]
  },
  {
   "cell_type": "code",
   "execution_count": 53,
   "metadata": {},
   "outputs": [
    {
     "data": {
      "text/plain": [
       "Run(id='run_h9RYwzwtqMDxPDrjt9rNto9C', assistant_id='asst_wmUPInPNiI5UnWNb001ehA5r', cancelled_at=None, completed_at=None, created_at=1707809908, expires_at=1707810508, failed_at=None, file_ids=[], instructions='Do (15+22)-2', last_error=None, metadata={}, model='gpt-3.5-turbo', object='thread.run', required_action=None, started_at=None, status='queued', thread_id='thread_lh183M12yrlseMrGcCquv7vF', tools=[ToolAssistantToolsFunction(function=FunctionDefinition(name='add', description='Adds two numbers together', parameters={'type': 'object', 'properties': {'num_1': {'type': 'integer', 'description': 'The first number to add.'}, 'num_2': {'type': 'integer', 'description': 'The second number to add.'}}, 'required': ['num_1', 'num_2']}), type='function'), ToolAssistantToolsFunction(function=FunctionDefinition(name='subtract', description='Subtracts two numbers together', parameters={'type': 'object', 'properties': {'num_1': {'type': 'integer', 'description': 'The number to subtract from.'}, 'num_2': {'type': 'integer', 'description': 'The number to subtract by.'}}, 'required': ['num_1', 'num_2']}), type='function')], usage=None)"
      ]
     },
     "execution_count": 53,
     "metadata": {},
     "output_type": "execute_result"
    }
   ],
   "source": [
    "# Prompt the model to add something\n",
    "\n",
    "run = client.beta.threads.runs.create(\n",
    "    thread_id=thread.id,\n",
    "    assistant_id=assistant.id,\n",
    "    instructions=\"Do (15+22)-2\"\n",
    ")\n",
    "run"
   ]
  },
  {
   "cell_type": "code",
   "execution_count": 56,
   "metadata": {},
   "outputs": [
    {
     "data": {
      "text/plain": [
       "Run(id='run_h9RYwzwtqMDxPDrjt9rNto9C', assistant_id='asst_wmUPInPNiI5UnWNb001ehA5r', cancelled_at=None, completed_at=None, created_at=1707809908, expires_at=1707810508, failed_at=None, file_ids=[], instructions='Do (15+22)-2', last_error=None, metadata={}, model='gpt-3.5-turbo', object='thread.run', required_action=RequiredAction(submit_tool_outputs=RequiredActionSubmitToolOutputs(tool_calls=[RequiredActionFunctionToolCall(id='call_AhX3s1ymAMJD8SuwJYDaFScG', function=Function(arguments='{\\n  \"num_1\": 15,\\n  \"num_2\": 22\\n}', name='add'), type='function')]), type='submit_tool_outputs'), started_at=1707809908, status='requires_action', thread_id='thread_lh183M12yrlseMrGcCquv7vF', tools=[ToolAssistantToolsFunction(function=FunctionDefinition(name='add', description='Adds two numbers together', parameters={'type': 'object', 'properties': {'num_1': {'type': 'integer', 'description': 'The first number to add.'}, 'num_2': {'type': 'integer', 'description': 'The second number to add.'}}, 'required': ['num_1', 'num_2']}), type='function'), ToolAssistantToolsFunction(function=FunctionDefinition(name='subtract', description='Subtracts two numbers together', parameters={'type': 'object', 'properties': {'num_1': {'type': 'integer', 'description': 'The number to subtract from.'}, 'num_2': {'type': 'integer', 'description': 'The number to subtract by.'}}, 'required': ['num_1', 'num_2']}), type='function')], usage=None)"
      ]
     },
     "execution_count": 56,
     "metadata": {},
     "output_type": "execute_result"
    }
   ],
   "source": [
    "run = client.beta.threads.runs.retrieve(\n",
    "    thread_id=thread.id,\n",
    "    run_id=run.id\n",
    ")\n",
    "run\n",
    "\n",
    "#run.completed_at is possible"
   ]
  },
  {
   "cell_type": "code",
   "execution_count": 60,
   "metadata": {},
   "outputs": [
    {
     "name": "stdout",
     "output_type": "stream",
     "text": [
      "Function(arguments='{\\n  \"num_1\": 37,\\n  \"num_2\": 2\\n}', name='subtract')\n"
     ]
    },
    {
     "data": {
      "text/plain": [
       "[{'tool_call_id': 'call_TFjjvx0IBxSnjEtHjCph8B8j', 'output': 35}]"
      ]
     },
     "execution_count": 60,
     "metadata": {},
     "output_type": "execute_result"
    }
   ],
   "source": [
    "import json\n",
    "\n",
    "def get_outputs_for_tool_call(tool_call):\n",
    "    num1 = json.loads(tool_call.function.arguments)[\"num_1\"]\n",
    "    num2 = json.loads(tool_call.function.arguments)[\"num_2\"]\n",
    "\n",
    "    print(tool_call.function)\n",
    "\n",
    "    if tool_call.function.name == 'add':\n",
    "        desired = add(num1, num2)\n",
    "    elif tool_call.function.name == 'subtract':\n",
    "        desired = subtract(num1, num2)\n",
    "\n",
    "    return {\n",
    "        \"tool_call_id\": tool_call.id,\n",
    "        \"output\": desired\n",
    "    }\n",
    "\n",
    "tool_calls = run.required_action.submit_tool_outputs.tool_calls\n",
    "tool_outputs = map(get_outputs_for_tool_call, tool_calls)\n",
    "tool_outputs = list(tool_outputs)\n",
    "tool_outputs\n",
    "\n",
    "    "
   ]
  },
  {
   "cell_type": "code",
   "execution_count": 61,
   "metadata": {},
   "outputs": [
    {
     "data": {
      "text/plain": [
       "Run(id='run_h9RYwzwtqMDxPDrjt9rNto9C', assistant_id='asst_wmUPInPNiI5UnWNb001ehA5r', cancelled_at=None, completed_at=None, created_at=1707809908, expires_at=1707810508, failed_at=None, file_ids=[], instructions='Do (15+22)-2', last_error=None, metadata={}, model='gpt-3.5-turbo', object='thread.run', required_action=None, started_at=1707809947, status='queued', thread_id='thread_lh183M12yrlseMrGcCquv7vF', tools=[ToolAssistantToolsFunction(function=FunctionDefinition(name='add', description='Adds two numbers together', parameters={'type': 'object', 'properties': {'num_1': {'type': 'integer', 'description': 'The first number to add.'}, 'num_2': {'type': 'integer', 'description': 'The second number to add.'}}, 'required': ['num_1', 'num_2']}), type='function'), ToolAssistantToolsFunction(function=FunctionDefinition(name='subtract', description='Subtracts two numbers together', parameters={'type': 'object', 'properties': {'num_1': {'type': 'integer', 'description': 'The number to subtract from.'}, 'num_2': {'type': 'integer', 'description': 'The number to subtract by.'}}, 'required': ['num_1', 'num_2']}), type='function')], usage=None)"
      ]
     },
     "execution_count": 61,
     "metadata": {},
     "output_type": "execute_result"
    }
   ],
   "source": [
    "run = client.beta.threads.runs.submit_tool_outputs(\n",
    "    thread_id=thread.id,\n",
    "    run_id=run.id,\n",
    "    tool_outputs=tool_outputs\n",
    ")\n",
    "\n",
    "run"
   ]
  },
  {
   "cell_type": "code",
   "execution_count": 62,
   "metadata": {},
   "outputs": [
    {
     "data": {
      "text/plain": [
       "Run(id='run_h9RYwzwtqMDxPDrjt9rNto9C', assistant_id='asst_wmUPInPNiI5UnWNb001ehA5r', cancelled_at=None, completed_at=1707809971, created_at=1707809908, expires_at=None, failed_at=None, file_ids=[], instructions='Do (15+22)-2', last_error=None, metadata={}, model='gpt-3.5-turbo', object='thread.run', required_action=None, started_at=1707809970, status='completed', thread_id='thread_lh183M12yrlseMrGcCquv7vF', tools=[ToolAssistantToolsFunction(function=FunctionDefinition(name='add', description='Adds two numbers together', parameters={'type': 'object', 'properties': {'num_1': {'type': 'integer', 'description': 'The first number to add.'}, 'num_2': {'type': 'integer', 'description': 'The second number to add.'}}, 'required': ['num_1', 'num_2']}), type='function'), ToolAssistantToolsFunction(function=FunctionDefinition(name='subtract', description='Subtracts two numbers together', parameters={'type': 'object', 'properties': {'num_1': {'type': 'integer', 'description': 'The number to subtract from.'}, 'num_2': {'type': 'integer', 'description': 'The number to subtract by.'}}, 'required': ['num_1', 'num_2']}), type='function')], usage=Usage(completion_tokens=67, prompt_tokens=438, total_tokens=505))"
      ]
     },
     "execution_count": 62,
     "metadata": {},
     "output_type": "execute_result"
    }
   ],
   "source": [
    "run = client.beta.threads.runs.retrieve(\n",
    "    thread_id=thread.id,\n",
    "    run_id=run.id\n",
    ")\n",
    "\n",
    "run"
   ]
  },
  {
   "cell_type": "code",
   "execution_count": 63,
   "metadata": {},
   "outputs": [
    {
     "data": {
      "text/plain": [
       "'The result of (15+22)-2 is 35.'"
      ]
     },
     "execution_count": 63,
     "metadata": {},
     "output_type": "execute_result"
    }
   ],
   "source": [
    "# Show the latest message.\n",
    "\n",
    "messages = client.beta.threads.messages.list(\n",
    "    thread_id=thread.id\n",
    ")\n",
    "messages.data[0].content[0].text.value"
   ]
  },
  {
   "cell_type": "code",
   "execution_count": null,
   "metadata": {},
   "outputs": [],
   "source": []
  }
 ],
 "metadata": {
  "kernelspec": {
   "display_name": "python11",
   "language": "python",
   "name": "python3"
  },
  "language_info": {
   "codemirror_mode": {
    "name": "ipython",
    "version": 3
   },
   "file_extension": ".py",
   "mimetype": "text/x-python",
   "name": "python",
   "nbconvert_exporter": "python",
   "pygments_lexer": "ipython3",
   "version": "3.11.8"
  }
 },
 "nbformat": 4,
 "nbformat_minor": 2
}
