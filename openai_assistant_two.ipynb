{
 "cells": [
  {
   "cell_type": "markdown",
   "metadata": {},
   "source": [
    "# OpenAI Assistant Example\n",
    "\n",
    "This is the example of a simple assistant coded in Python. This Jupyter Notebook follows the tutorial created by [Make Stuff with AI](https://www.youtube.com/watch?v=vQhEiR2bNY8). \n",
    "\n",
    "***\n",
    "\n",
    "Below, we set up the client by importing the required dependencies and set up the AI client with the API key (which can be obtained by signing up and adding credit to your OpenAI account.)\n",
    "\n",
    "The `assistant_id` can be obtained by using the Assistant API in the OpenAI playground."
   ]
  },
  {
   "cell_type": "code",
   "execution_count": 1,
   "metadata": {},
   "outputs": [],
   "source": [
    "#Set up the client\n",
    "\n",
    "from openai import OpenAI\n",
    "import os\n",
    "import json\n",
    "\n",
    "client = OpenAI(\n",
    "    api_key=os.getenv(\"OPEN_AI_KEY\")\n",
    ")\n",
    "\n",
    "# Declare Assistant ID\n",
    "\n",
    "assistant_id = \"asst_wmUPInPNiI5UnWNb001ehA5r\""
   ]
  },
  {
   "cell_type": "markdown",
   "metadata": {},
   "source": [
    "Now, we declare the functions that we will be using in this example. Today, we are using a simple add function, and a simple subtract function, but we can change it to anything we want."
   ]
  },
  {
   "cell_type": "code",
   "execution_count": 2,
   "metadata": {},
   "outputs": [],
   "source": [
    "# Declare Functions\n",
    "\n",
    "def add(num1, num2):\n",
    "    return num1+num2\n",
    "\n",
    "def subtract(num1, num2):\n",
    "    return num1-num2\n"
   ]
  },
  {
   "cell_type": "markdown",
   "metadata": {},
   "source": [
    "Now, we retrieve and create our assistant. We can see its information below, with the `instructions` section and `tools` sections in the below defined in the Assistant API."
   ]
  },
  {
   "cell_type": "code",
   "execution_count": 3,
   "metadata": {},
   "outputs": [
    {
     "data": {
      "text/plain": [
       "Assistant(id='asst_wmUPInPNiI5UnWNb001ehA5r', created_at=1707805935, description=None, file_ids=[], instructions='You are a helpful math tutor that helps students with simple mathematics, such as adding and subtracting. You always respond excitedly, as if you are responding to kindergarten students.', metadata={}, model='gpt-3.5-turbo', name='Math tutor', object='assistant', tools=[ToolFunction(function=FunctionDefinition(name='add', description='Adds two numbers together', parameters={'type': 'object', 'properties': {'num_1': {'type': 'integer', 'description': 'The first number to add.'}, 'num_2': {'type': 'integer', 'description': 'The second number to add.'}}, 'required': ['num_1', 'num_2']}), type='function'), ToolFunction(function=FunctionDefinition(name='subtract', description='Subtracts two numbers together', parameters={'type': 'object', 'properties': {'num_1': {'type': 'integer', 'description': 'The number to subtract from.'}, 'num_2': {'type': 'integer', 'description': 'The number to subtract by.'}}, 'required': ['num_1', 'num_2']}), type='function')])"
      ]
     },
     "execution_count": 3,
     "metadata": {},
     "output_type": "execute_result"
    }
   ],
   "source": [
    "assistant = client.beta.assistants.retrieve(\n",
    "    assistant_id=assistant_id\n",
    ")\n",
    "\n",
    "assistant"
   ]
  },
  {
   "cell_type": "markdown",
   "metadata": {},
   "source": [
    "Now we create a thread. The thread keeps all the information and context from the conversation with the user."
   ]
  },
  {
   "cell_type": "code",
   "execution_count": 4,
   "metadata": {},
   "outputs": [
    {
     "data": {
      "text/plain": [
       "Thread(id='thread_a4B1nBjEOJAhboi44pTzKECH', created_at=1707815461, metadata={}, object='thread')"
      ]
     },
     "execution_count": 4,
     "metadata": {},
     "output_type": "execute_result"
    }
   ],
   "source": [
    "# Create a thread\n",
    "\n",
    "thread = client.beta.threads.create()\n",
    "thread"
   ]
  },
  {
   "cell_type": "markdown",
   "metadata": {},
   "source": [
    "Now we define the prompt by the user. In this case, we are doing the equation `(100-21)+2`."
   ]
  },
  {
   "cell_type": "code",
   "execution_count": 14,
   "metadata": {},
   "outputs": [
    {
     "data": {
      "text/plain": [
       "Run(id='run_cVlVlMoc8oirSY6T5akweaWi', assistant_id='asst_wmUPInPNiI5UnWNb001ehA5r', cancelled_at=None, completed_at=None, created_at=1707815594, expires_at=1707816194, failed_at=None, file_ids=[], instructions='(100-21)+2', last_error=None, metadata={}, model='gpt-3.5-turbo', object='thread.run', required_action=None, started_at=None, status='queued', thread_id='thread_a4B1nBjEOJAhboi44pTzKECH', tools=[ToolAssistantToolsFunction(function=FunctionDefinition(name='add', description='Adds two numbers together', parameters={'type': 'object', 'properties': {'num_1': {'type': 'integer', 'description': 'The first number to add.'}, 'num_2': {'type': 'integer', 'description': 'The second number to add.'}}, 'required': ['num_1', 'num_2']}), type='function'), ToolAssistantToolsFunction(function=FunctionDefinition(name='subtract', description='Subtracts two numbers together', parameters={'type': 'object', 'properties': {'num_1': {'type': 'integer', 'description': 'The number to subtract from.'}, 'num_2': {'type': 'integer', 'description': 'The number to subtract by.'}}, 'required': ['num_1', 'num_2']}), type='function')], usage=None)"
      ]
     },
     "execution_count": 14,
     "metadata": {},
     "output_type": "execute_result"
    }
   ],
   "source": [
    "# Prompt the model to add something\n",
    "\n",
    "run = client.beta.threads.runs.create(\n",
    "    thread_id=thread.id,\n",
    "    assistant_id=assistant.id,\n",
    "    instructions=\"(100-21)+2\"\n",
    ")\n",
    "run"
   ]
  },
  {
   "cell_type": "markdown",
   "metadata": {},
   "source": [
    "We see here that the `status` of the run is `queued`. We can get updates on this `status` by running the below code block."
   ]
  },
  {
   "cell_type": "code",
   "execution_count": 15,
   "metadata": {},
   "outputs": [
    {
     "data": {
      "text/plain": [
       "Run(id='run_cVlVlMoc8oirSY6T5akweaWi', assistant_id='asst_wmUPInPNiI5UnWNb001ehA5r', cancelled_at=None, completed_at=None, created_at=1707815594, expires_at=1707816194, failed_at=None, file_ids=[], instructions='(100-21)+2', last_error=None, metadata={}, model='gpt-3.5-turbo', object='thread.run', required_action=RequiredAction(submit_tool_outputs=RequiredActionSubmitToolOutputs(tool_calls=[RequiredActionFunctionToolCall(id='call_ABwUybxW7Umq7qFvmvtaiK05', function=Function(arguments='{\\n  \"num_1\": 100,\\n  \"num_2\": 21\\n}', name='subtract'), type='function')]), type='submit_tool_outputs'), started_at=1707815595, status='requires_action', thread_id='thread_a4B1nBjEOJAhboi44pTzKECH', tools=[ToolAssistantToolsFunction(function=FunctionDefinition(name='add', description='Adds two numbers together', parameters={'type': 'object', 'properties': {'num_1': {'type': 'integer', 'description': 'The first number to add.'}, 'num_2': {'type': 'integer', 'description': 'The second number to add.'}}, 'required': ['num_1', 'num_2']}), type='function'), ToolAssistantToolsFunction(function=FunctionDefinition(name='subtract', description='Subtracts two numbers together', parameters={'type': 'object', 'properties': {'num_1': {'type': 'integer', 'description': 'The number to subtract from.'}, 'num_2': {'type': 'integer', 'description': 'The number to subtract by.'}}, 'required': ['num_1', 'num_2']}), type='function')], usage=None)"
      ]
     },
     "execution_count": 15,
     "metadata": {},
     "output_type": "execute_result"
    }
   ],
   "source": [
    "run = client.beta.threads.runs.retrieve(\n",
    "    thread_id=thread.id,\n",
    "    run_id=run.id\n",
    ")\n",
    "run"
   ]
  },
  {
   "cell_type": "markdown",
   "metadata": {},
   "source": [
    "We see here that a section called `required_action` has been populated. It has the information that is needed to pass to the arguments. We now take the request and call our function using this below section. \n",
    "\n",
    "We create this function `get_outputs_for_tool_call`, grab the arguments, and send the arguments to the functions. We then return it. "
   ]
  },
  {
   "cell_type": "code",
   "execution_count": 16,
   "metadata": {},
   "outputs": [
    {
     "name": "stdout",
     "output_type": "stream",
     "text": [
      "Function(arguments='{\\n  \"num_1\": 100,\\n  \"num_2\": 21\\n}', name='subtract')\n"
     ]
    },
    {
     "data": {
      "text/plain": [
       "[{'tool_call_id': 'call_ABwUybxW7Umq7qFvmvtaiK05', 'output': 79}]"
      ]
     },
     "execution_count": 16,
     "metadata": {},
     "output_type": "execute_result"
    }
   ],
   "source": [
    "def get_outputs_for_tool_call(tool_call):\n",
    "    num1 = json.loads(tool_call.function.arguments)[\"num_1\"]\n",
    "    num2 = json.loads(tool_call.function.arguments)[\"num_2\"]\n",
    "\n",
    "    print(tool_call.function)\n",
    "\n",
    "    if tool_call.function.name == 'add':\n",
    "        desired = add(num1, num2)\n",
    "    elif tool_call.function.name == 'subtract':\n",
    "        desired = subtract(num1, num2)\n",
    "\n",
    "    return {\n",
    "        \"tool_call_id\": tool_call.id,\n",
    "        \"output\": desired\n",
    "    }\n",
    "\n",
    "tool_calls = run.required_action.submit_tool_outputs.tool_calls\n",
    "tool_outputs = map(get_outputs_for_tool_call, tool_calls)\n",
    "tool_outputs = list(tool_outputs)\n",
    "tool_outputs\n",
    "\n",
    "    "
   ]
  },
  {
   "cell_type": "markdown",
   "metadata": {},
   "source": [
    "We see that in this case, it did `(100-21)`, which outputs `79`.\n",
    "\n",
    "Now, we submit the `tool_outputs` back to the `run`."
   ]
  },
  {
   "cell_type": "code",
   "execution_count": 17,
   "metadata": {},
   "outputs": [
    {
     "data": {
      "text/plain": [
       "Run(id='run_cVlVlMoc8oirSY6T5akweaWi', assistant_id='asst_wmUPInPNiI5UnWNb001ehA5r', cancelled_at=None, completed_at=None, created_at=1707815594, expires_at=1707816194, failed_at=None, file_ids=[], instructions='(100-21)+2', last_error=None, metadata={}, model='gpt-3.5-turbo', object='thread.run', required_action=None, started_at=1707815595, status='queued', thread_id='thread_a4B1nBjEOJAhboi44pTzKECH', tools=[ToolAssistantToolsFunction(function=FunctionDefinition(name='add', description='Adds two numbers together', parameters={'type': 'object', 'properties': {'num_1': {'type': 'integer', 'description': 'The first number to add.'}, 'num_2': {'type': 'integer', 'description': 'The second number to add.'}}, 'required': ['num_1', 'num_2']}), type='function'), ToolAssistantToolsFunction(function=FunctionDefinition(name='subtract', description='Subtracts two numbers together', parameters={'type': 'object', 'properties': {'num_1': {'type': 'integer', 'description': 'The number to subtract from.'}, 'num_2': {'type': 'integer', 'description': 'The number to subtract by.'}}, 'required': ['num_1', 'num_2']}), type='function')], usage=None)"
      ]
     },
     "execution_count": 17,
     "metadata": {},
     "output_type": "execute_result"
    }
   ],
   "source": [
    "run = client.beta.threads.runs.submit_tool_outputs(\n",
    "    thread_id=thread.id,\n",
    "    run_id=run.id,\n",
    "    tool_outputs=tool_outputs\n",
    ")\n",
    "\n",
    "run"
   ]
  },
  {
   "cell_type": "markdown",
   "metadata": {},
   "source": [
    "Now we retrieve the run again, and see it requires another action -- the second part of the function, `+2`."
   ]
  },
  {
   "cell_type": "code",
   "execution_count": 18,
   "metadata": {},
   "outputs": [
    {
     "data": {
      "text/plain": [
       "Run(id='run_cVlVlMoc8oirSY6T5akweaWi', assistant_id='asst_wmUPInPNiI5UnWNb001ehA5r', cancelled_at=None, completed_at=None, created_at=1707815594, expires_at=1707816194, failed_at=None, file_ids=[], instructions='(100-21)+2', last_error=None, metadata={}, model='gpt-3.5-turbo', object='thread.run', required_action=RequiredAction(submit_tool_outputs=RequiredActionSubmitToolOutputs(tool_calls=[RequiredActionFunctionToolCall(id='call_sFO1harOKOzg9Phxv7wDGHDt', function=Function(arguments='{\\n  \"num_1\": 79,\\n  \"num_2\": 2\\n}', name='add'), type='function')]), type='submit_tool_outputs'), started_at=1707815635, status='requires_action', thread_id='thread_a4B1nBjEOJAhboi44pTzKECH', tools=[ToolAssistantToolsFunction(function=FunctionDefinition(name='add', description='Adds two numbers together', parameters={'type': 'object', 'properties': {'num_1': {'type': 'integer', 'description': 'The first number to add.'}, 'num_2': {'type': 'integer', 'description': 'The second number to add.'}}, 'required': ['num_1', 'num_2']}), type='function'), ToolAssistantToolsFunction(function=FunctionDefinition(name='subtract', description='Subtracts two numbers together', parameters={'type': 'object', 'properties': {'num_1': {'type': 'integer', 'description': 'The number to subtract from.'}, 'num_2': {'type': 'integer', 'description': 'The number to subtract by.'}}, 'required': ['num_1', 'num_2']}), type='function')], usage=None)"
      ]
     },
     "execution_count": 18,
     "metadata": {},
     "output_type": "execute_result"
    }
   ],
   "source": [
    "run = client.beta.threads.runs.retrieve(\n",
    "    thread_id=thread.id,\n",
    "    run_id=run.id\n",
    ")\n",
    "\n",
    "run"
   ]
  },
  {
   "cell_type": "markdown",
   "metadata": {},
   "source": [
    "We run the tool call as previously defined, and see that it performs `79+2` and returns `81`. We then continue the code as we did above, by submitting the `tool_outputs`."
   ]
  },
  {
   "cell_type": "code",
   "execution_count": 19,
   "metadata": {},
   "outputs": [
    {
     "name": "stdout",
     "output_type": "stream",
     "text": [
      "Function(arguments='{\\n  \"num_1\": 79,\\n  \"num_2\": 2\\n}', name='add')\n"
     ]
    },
    {
     "data": {
      "text/plain": [
       "[{'tool_call_id': 'call_sFO1harOKOzg9Phxv7wDGHDt', 'output': 81}]"
      ]
     },
     "execution_count": 19,
     "metadata": {},
     "output_type": "execute_result"
    }
   ],
   "source": [
    "tool_calls = run.required_action.submit_tool_outputs.tool_calls\n",
    "tool_outputs = map(get_outputs_for_tool_call, tool_calls)\n",
    "tool_outputs = list(tool_outputs)\n",
    "tool_outputs"
   ]
  },
  {
   "cell_type": "code",
   "execution_count": 20,
   "metadata": {},
   "outputs": [
    {
     "data": {
      "text/plain": [
       "Run(id='run_cVlVlMoc8oirSY6T5akweaWi', assistant_id='asst_wmUPInPNiI5UnWNb001ehA5r', cancelled_at=None, completed_at=None, created_at=1707815594, expires_at=1707816194, failed_at=None, file_ids=[], instructions='(100-21)+2', last_error=None, metadata={}, model='gpt-3.5-turbo', object='thread.run', required_action=None, started_at=1707815635, status='queued', thread_id='thread_a4B1nBjEOJAhboi44pTzKECH', tools=[ToolAssistantToolsFunction(function=FunctionDefinition(name='add', description='Adds two numbers together', parameters={'type': 'object', 'properties': {'num_1': {'type': 'integer', 'description': 'The first number to add.'}, 'num_2': {'type': 'integer', 'description': 'The second number to add.'}}, 'required': ['num_1', 'num_2']}), type='function'), ToolAssistantToolsFunction(function=FunctionDefinition(name='subtract', description='Subtracts two numbers together', parameters={'type': 'object', 'properties': {'num_1': {'type': 'integer', 'description': 'The number to subtract from.'}, 'num_2': {'type': 'integer', 'description': 'The number to subtract by.'}}, 'required': ['num_1', 'num_2']}), type='function')], usage=None)"
      ]
     },
     "execution_count": 20,
     "metadata": {},
     "output_type": "execute_result"
    }
   ],
   "source": [
    "run = client.beta.threads.runs.submit_tool_outputs(\n",
    "    thread_id=thread.id,\n",
    "    run_id=run.id,\n",
    "    tool_outputs=tool_outputs\n",
    ")\n",
    "\n",
    "run"
   ]
  },
  {
   "cell_type": "code",
   "execution_count": 21,
   "metadata": {},
   "outputs": [
    {
     "data": {
      "text/plain": [
       "Run(id='run_cVlVlMoc8oirSY6T5akweaWi', assistant_id='asst_wmUPInPNiI5UnWNb001ehA5r', cancelled_at=None, completed_at=1707815829, created_at=1707815594, expires_at=None, failed_at=None, file_ids=[], instructions='(100-21)+2', last_error=None, metadata={}, model='gpt-3.5-turbo', object='thread.run', required_action=None, started_at=1707815828, status='completed', thread_id='thread_a4B1nBjEOJAhboi44pTzKECH', tools=[ToolAssistantToolsFunction(function=FunctionDefinition(name='add', description='Adds two numbers together', parameters={'type': 'object', 'properties': {'num_1': {'type': 'integer', 'description': 'The first number to add.'}, 'num_2': {'type': 'integer', 'description': 'The second number to add.'}}, 'required': ['num_1', 'num_2']}), type='function'), ToolAssistantToolsFunction(function=FunctionDefinition(name='subtract', description='Subtracts two numbers together', parameters={'type': 'object', 'properties': {'num_1': {'type': 'integer', 'description': 'The number to subtract from.'}, 'num_2': {'type': 'integer', 'description': 'The number to subtract by.'}}, 'required': ['num_1', 'num_2']}), type='function')], usage=Usage(completion_tokens=64, prompt_tokens=681, total_tokens=745))"
      ]
     },
     "execution_count": 21,
     "metadata": {},
     "output_type": "execute_result"
    }
   ],
   "source": [
    "run = client.beta.threads.runs.retrieve(\n",
    "    thread_id=thread.id,\n",
    "    run_id=run.id\n",
    ")\n",
    "\n",
    "run"
   ]
  },
  {
   "cell_type": "markdown",
   "metadata": {},
   "source": [
    "We see above that the `completed_at` section is now no longer empty. Now, we can show the latest message using the below code."
   ]
  },
  {
   "cell_type": "code",
   "execution_count": 22,
   "metadata": {},
   "outputs": [
    {
     "data": {
      "text/plain": [
       "'(100-21)+2 equals 81.'"
      ]
     },
     "execution_count": 22,
     "metadata": {},
     "output_type": "execute_result"
    }
   ],
   "source": [
    "# Show the latest message.\n",
    "\n",
    "messages = client.beta.threads.messages.list(\n",
    "    thread_id=thread.id\n",
    ")\n",
    "messages.data[0].content[0].text.value"
   ]
  },
  {
   "cell_type": "markdown",
   "metadata": {},
   "source": [
    "Therefore, the assistant works similarly to this!"
   ]
  }
 ],
 "metadata": {
  "kernelspec": {
   "display_name": "python11",
   "language": "python",
   "name": "python3"
  },
  "language_info": {
   "codemirror_mode": {
    "name": "ipython",
    "version": 3
   },
   "file_extension": ".py",
   "mimetype": "text/x-python",
   "name": "python",
   "nbconvert_exporter": "python",
   "pygments_lexer": "ipython3",
   "version": "3.11.8"
  }
 },
 "nbformat": 4,
 "nbformat_minor": 2
}
